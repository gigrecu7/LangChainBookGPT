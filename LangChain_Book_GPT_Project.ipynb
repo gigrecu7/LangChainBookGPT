{
 "cells": [
  {
   "cell_type": "code",
   "execution_count": 1,
   "id": "2e75ee9c-1e3c-4026-a96e-8ebb861818bf",
   "metadata": {},
   "outputs": [],
   "source": [
    "import os\n",
    "import sys"
   ]
  },
  {
   "cell_type": "code",
   "execution_count": 3,
   "id": "3cea4e38-c616-436e-8b33-c869d236c52b",
   "metadata": {},
   "outputs": [],
   "source": [
    "from langchain.document_loaders import TextLoader\n",
    "from langchain.indexes import VectorstoreIndexCreator\n",
    "from langchain.llms import OpenAI\n",
    "from langchain_openai import OpenAIEmbeddings "
   ]
  },
  {
   "cell_type": "code",
   "execution_count": 5,
   "id": "1bc8e5dd-70df-448e-8d67-44aedc1c2ee9",
   "metadata": {},
   "outputs": [],
   "source": [
    "#Place you OpenAI API Key here\n",
    "os.environ[\"OPENAI_API_KEY\"] = ''\n"
   ]
  },
  {
   "cell_type": "code",
   "execution_count": 33,
   "id": "01aae070-3b0e-4b5e-9fcb-097705541ec8",
   "metadata": {},
   "outputs": [],
   "source": [
    "# Load the text file of the book you downloaded\n",
    "loader = TextLoader('Book.txt')"
   ]
  },
  {
   "cell_type": "code",
   "execution_count": 35,
   "id": "8b60affa-7564-4e7d-97e6-b80083637850",
   "metadata": {},
   "outputs": [],
   "source": [
    "# Create the embedding model\n",
    "embedding_model = OpenAIEmbeddings()"
   ]
  },
  {
   "cell_type": "code",
   "execution_count": 37,
   "id": "6bf51776-4eb8-4001-a936-8fba13dcc300",
   "metadata": {},
   "outputs": [
    {
     "name": "stderr",
     "output_type": "stream",
     "text": [
      "/opt/anaconda3/lib/python3.12/site-packages/langchain/indexes/vectorstore.py:128: UserWarning: Using InMemoryVectorStore as the default vectorstore.This memory store won't persist data. You should explicitlyspecify a vectorstore when using VectorstoreIndexCreator\n",
      "  warnings.warn(\n"
     ]
    }
   ],
   "source": [
    "# Create the index with the embedding model\n",
    "index = VectorstoreIndexCreator(embedding=embedding_model).from_loaders([loader])"
   ]
  },
  {
   "cell_type": "code",
   "execution_count": 38,
   "id": "d31fbe09-c0da-4495-9e4d-efbb161e5c37",
   "metadata": {},
   "outputs": [],
   "source": [
    "# Create the LLM instance\n",
    "llm = OpenAI(temperature=0)  \n"
   ]
  },
  {
   "cell_type": "code",
   "execution_count": 41,
   "id": "c38c5d84-39be-4cc5-934f-50cc6adfe530",
   "metadata": {},
   "outputs": [],
   "source": [
    "#query the index\n",
    "def query_index(question):\n",
    "    response = index.query(question, llm=llm)\n",
    "    return response"
   ]
  },
  {
   "cell_type": "code",
   "execution_count": 43,
   "id": "6070cfdc-c91d-4500-8064-19b77d9a8212",
   "metadata": {},
   "outputs": [
    {
     "name": "stdin",
     "output_type": "stream",
     "text": [
      "Ask a question about the book (or type 'exit' to quit):  who is the main character\n"
     ]
    },
    {
     "name": "stdout",
     "output_type": "stream",
     "text": [
      "Answer:  The main character is Harry Potter.\n"
     ]
    },
    {
     "name": "stdin",
     "output_type": "stream",
     "text": [
      "Ask a question about the book (or type 'exit' to quit):  what is the title of the first chapter?\n"
     ]
    },
    {
     "name": "stdout",
     "output_type": "stream",
     "text": [
      "Answer:  The title of the first chapter is \"The Boy Who Lived.\"\n"
     ]
    },
    {
     "name": "stdin",
     "output_type": "stream",
     "text": [
      "Ask a question about the book (or type 'exit' to quit):  who is harry's best friend?\n"
     ]
    },
    {
     "name": "stdout",
     "output_type": "stream",
     "text": [
      "Answer:  Ron\n"
     ]
    },
    {
     "name": "stdin",
     "output_type": "stream",
     "text": [
      "Ask a question about the book (or type 'exit' to quit):  who are some of his other friends?\n"
     ]
    },
    {
     "name": "stdout",
     "output_type": "stream",
     "text": [
      "Answer: \n",
      "Some of Harry's other friends include Ron Weasley, Hermione Granger, Neville Longbottom, and Ginny Weasley.\n"
     ]
    },
    {
     "name": "stdin",
     "output_type": "stream",
     "text": [
      "Ask a question about the book (or type 'exit' to quit):  Who is his enemy?\n"
     ]
    },
    {
     "name": "stdout",
     "output_type": "stream",
     "text": [
      "Answer: \n",
      "The enemy being referred to in this context is Lord Voldemort.\n"
     ]
    },
    {
     "name": "stdin",
     "output_type": "stream",
     "text": [
      "Ask a question about the book (or type 'exit' to quit):  Is Malfoy not his enemy?\n"
     ]
    },
    {
     "name": "stdout",
     "output_type": "stream",
     "text": [
      "Answer:  No, Malfoy is definitely Harry's enemy.\n"
     ]
    },
    {
     "name": "stdin",
     "output_type": "stream",
     "text": [
      "Ask a question about the book (or type 'exit' to quit):  where did harry get his wand from?\n"
     ]
    },
    {
     "name": "stdout",
     "output_type": "stream",
     "text": [
      "Answer:  Harry got his wand from Mr. Ollivander's wand shop in Diagon Alley.\n"
     ]
    },
    {
     "name": "stdin",
     "output_type": "stream",
     "text": [
      "Ask a question about the book (or type 'exit' to quit):  whaat happened when he got his wand?\n"
     ]
    },
    {
     "name": "stdout",
     "output_type": "stream",
     "text": [
      "Answer:  Mr. Ollivander sold Harry's wand, which was 13 and a half inches long and made of yew wood. He also mentioned that the wand was powerful and in the wrong hands. Hagrid's wand, which was made of oak and 16 inches long, was also mentioned. It was revealed that Hagrid's wand was snapped in half when he was expelled from Hogwarts.\n"
     ]
    },
    {
     "name": "stdin",
     "output_type": "stream",
     "text": [
      "Ask a question about the book (or type 'exit' to quit):  does harry's family like him?\n"
     ]
    },
    {
     "name": "stdout",
     "output_type": "stream",
     "text": [
      "Answer:  Yes, Harry's family likes him. In the mirror, he sees his family smiling and waving at him, and he feels a powerful ache of both joy and sadness. This suggests that his family cares for him and he has a longing to be with them.\n"
     ]
    },
    {
     "name": "stdin",
     "output_type": "stream",
     "text": [
      "Ask a question about the book (or type 'exit' to quit):  How about the dursleys?\n"
     ]
    },
    {
     "name": "stdout",
     "output_type": "stream",
     "text": [
      "Answer:  The Dursleys are the family that Harry Potter lives with before he discovers he is a wizard. They are afraid of anyone finding out about the Potters, who are Harry's parents. They also do not want their son Dudley to mix with Harry because they see him as different.\n"
     ]
    },
    {
     "name": "stdin",
     "output_type": "stream",
     "text": [
      "Ask a question about the book (or type 'exit' to quit):  so they do not like him?\n"
     ]
    },
    {
     "name": "stdout",
     "output_type": "stream",
     "text": [
      "Answer:  Yes, the Dursleys do not like Harry.\n"
     ]
    },
    {
     "name": "stdin",
     "output_type": "stream",
     "text": [
      "Ask a question about the book (or type 'exit' to quit):  tell me about harry and quidittch\n"
     ]
    },
    {
     "name": "stdout",
     "output_type": "stream",
     "text": [
      "Answer:  Harry is a new student at Hogwarts and is just learning about the wizarding world. He is starting to feel fear whenever the name \"You-Know-Who\" is mentioned. Ron introduces him to the game of Quidditch, which is described as the best game in the world. Harry learns that there are seven players on each team, with three Chasers who try to score goals with the Quaffle. There is also a Keeper who tries to prevent the other team from scoring. The other two balls in the game are called Bludgers, which are used to disrupt the players. Harry practices catching golf balls with Wood, the Gryffindor team captain, and shows great potential. Wood believes that they have a good chance of winning the Quidditch Cup this year.\n"
     ]
    },
    {
     "name": "stdin",
     "output_type": "stream",
     "text": [
      "Ask a question about the book (or type 'exit' to quit):  is chess mentioned at all in this book?\n"
     ]
    },
    {
     "name": "stdout",
     "output_type": "stream",
     "text": [
      "Answer:  Yes, chess is mentioned multiple times in this book. It is mentioned in the context of Ron teaching Harry how to play, as well as in the context of a life-sized chess game that the characters must play in order to progress in the story.\n"
     ]
    },
    {
     "name": "stdin",
     "output_type": "stream",
     "text": [
      "Ask a question about the book (or type 'exit' to quit):  what is the life sized chess game?\n"
     ]
    },
    {
     "name": "stdout",
     "output_type": "stream",
     "text": [
      "Answer:  The life sized chess game is a game of chess played on a giant chessboard with human-sized chess pieces.\n"
     ]
    },
    {
     "name": "stdin",
     "output_type": "stream",
     "text": [
      "Ask a question about the book (or type 'exit' to quit):  and what happens there?\n"
     ]
    },
    {
     "name": "stdout",
     "output_type": "stream",
     "text": [
      "Answer:  It is not specified what happens at Hogwarts, but it is implied that the students will be taken to the school separately and that they are feeling nervous and excited about arriving.\n"
     ]
    },
    {
     "name": "stdin",
     "output_type": "stream",
     "text": [
      "Ask a question about the book (or type 'exit' to quit):  what happened in the life sized chess game?\n"
     ]
    },
    {
     "name": "stdout",
     "output_type": "stream",
     "text": [
      "Answer:  In the life sized chess game, Harry, Ron, and Hermione had to play their way across the chessboard as chess pieces in order to reach the other side and continue on their journey. They had to strategize and take the place of three black pieces in order to move forward.\n"
     ]
    },
    {
     "name": "stdin",
     "output_type": "stream",
     "text": [
      "Ask a question about the book (or type 'exit' to quit):  what is the checkmate move>\n"
     ]
    },
    {
     "name": "stdout",
     "output_type": "stream",
     "text": [
      "Answer:  The checkmate move is when a player puts the opposing player's king in a position where it cannot escape capture. In this context, Ron is suggesting that Harry make a move that will lead to checkmate and ultimately win the game.\n"
     ]
    },
    {
     "name": "stdin",
     "output_type": "stream",
     "text": [
      "Ask a question about the book (or type 'exit' to quit):  and what is the move exactly that ron tells him?\n"
     ]
    },
    {
     "name": "stdout",
     "output_type": "stream",
     "text": [
      "Answer:  Ron tells Harry to move diagonally four squares to the right.\n"
     ]
    },
    {
     "name": "stdin",
     "output_type": "stream",
     "text": [
      "Ask a question about the book (or type 'exit' to quit):  exit\n"
     ]
    }
   ],
   "source": [
    "while True:\n",
    "    question = input(\"Ask a question about the book (or type 'exit' to quit): \")\n",
    "    if question.lower() == 'exit':\n",
    "        break\n",
    "    answer = query_index(question)\n",
    "    print(\"Answer:\", answer) "
   ]
  }
 ],
 "metadata": {
  "kernelspec": {
   "display_name": "Python 3 (ipykernel)",
   "language": "python",
   "name": "python3"
  },
  "language_info": {
   "codemirror_mode": {
    "name": "ipython",
    "version": 3
   },
   "file_extension": ".py",
   "mimetype": "text/x-python",
   "name": "python",
   "nbconvert_exporter": "python",
   "pygments_lexer": "ipython3",
   "version": "3.12.4"
  }
 },
 "nbformat": 4,
 "nbformat_minor": 5
}
